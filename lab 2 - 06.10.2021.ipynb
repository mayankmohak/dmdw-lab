{
  "nbformat": 4,
  "nbformat_minor": 0,
  "metadata": {
    "colab": {
      "name": "Lab2.ipynb",
      "provenance": [],
      "collapsed_sections": [],
      "authorship_tag": "ABX9TyMsubswK1wxpNz3i1HqJcbg",
      "include_colab_link": true
    },
    "kernelspec": {
      "name": "python3",
      "display_name": "Python 3"
    },
    "language_info": {
      "name": "python"
    }
  },
  "cells": [
    {
      "cell_type": "markdown",
      "metadata": {
        "id": "view-in-github",
        "colab_type": "text"
      },
      "source": [
        "<a href=\"https://colab.research.google.com/github/RishavYaduvanshi/DMDW_LAB/blob/main/Lab2.ipynb\" target=\"_parent\"><img src=\"https://colab.research.google.com/assets/colab-badge.svg\" alt=\"Open In Colab\"/></a>"
      ]
    },
    {
      "cell_type": "markdown",
      "metadata": {
        "id": "pcBGid79nq-8"
      },
      "source": [
        "2\n",
        "A) Defining three random arrays: a one-dimensional (x1),\n",
        "two-dimensional (x2), and three-dimensional array\n",
        "(x3). Use NumPy’s random number generator, which we will\n",
        "seed with a set value in order to ensure that the\n",
        "same random arrays are generated each time this code is run.\n",
        "B) Display the ndim (the number of dimensions), shape (the\n",
        "size of each dimension), and size (the total size of the array) of the third array (x3)."
      ]
    },
    {
      "cell_type": "code",
      "metadata": {
        "colab": {
          "base_uri": "https://localhost:8080/"
        },
        "id": "DVXzBnW-oBHo",
        "outputId": "5b40f487-7195-4b49-af80-66f3ca7fc525"
      },
      "source": [
        "import numpy as np\n",
        "import random\n",
        "np.random.seed(0)\n",
        "x1 = np.random.randint(10,size=6)\n",
        "x2 = np.random.randint(10,size=(3,4))\n",
        "x3 = np.random.randint(10,size=(3,4,5))\n",
        "print('x3_dim',x3.ndim)\n",
        "print('x3_shape',x3.shape)\n",
        "print('x3_size',x3.size)"
      ],
      "execution_count": null,
      "outputs": [
        {
          "output_type": "stream",
          "name": "stdout",
          "text": [
            "x3_dim 3\n",
            "x3_shape (3, 4, 5)\n",
            "x3_size 60\n"
          ]
        }
      ]
    },
    {
      "cell_type": "markdown",
      "metadata": {
        "id": "_4eox4XfwX5L"
      },
      "source": [
        "3) Create two numpy arrays named X and Y of integers using\n",
        "range (1-10) and (11-20) command. Next, create a new array\n",
        "Z by concatenate X and Y."
      ]
    },
    {
      "cell_type": "code",
      "metadata": {
        "colab": {
          "base_uri": "https://localhost:8080/"
        },
        "id": "8hr2qHnbwZJ9",
        "outputId": "6345ee6b-ed4c-4154-c992-6025e3546873"
      },
      "source": [
        "import numpy as np\n",
        "x=np.arange(1,10,dtype=int)\n",
        "y=np.arange(11,20,dtype=int)\n",
        "z=np.concatenate((x,y))\n",
        "z"
      ],
      "execution_count": null,
      "outputs": [
        {
          "output_type": "execute_result",
          "data": {
            "text/plain": [
              "array([ 1,  2,  3,  4,  5,  6,  7,  8,  9, 11, 12, 13, 14, 15, 16, 17, 18,\n",
              "       19])"
            ]
          },
          "metadata": {},
          "execution_count": 1
        }
      ]
    },
    {
      "cell_type": "markdown",
      "metadata": {
        "id": "QdhbDPHGxHgO"
      },
      "source": [
        "4) Define a two-dimensional (X2). Concatenate X2 with X2."
      ]
    },
    {
      "cell_type": "code",
      "metadata": {
        "colab": {
          "base_uri": "https://localhost:8080/"
        },
        "id": "4oNMY9oBxE_p",
        "outputId": "a974f951-b335-4962-f269-e21e23a94b40"
      },
      "source": [
        "import numpy as np\n",
        "x=np.array([[1,2,3,],[4,5,6]])\n",
        "y=np.array([[11,12,13,],[14,15,16]])\n",
        "z=np.concatenate((x,y))\n",
        "z"
      ],
      "execution_count": null,
      "outputs": [
        {
          "output_type": "execute_result",
          "data": {
            "text/plain": [
              "array([[ 1,  2,  3],\n",
              "       [ 4,  5,  6],\n",
              "       [11, 12, 13],\n",
              "       [14, 15, 16]])"
            ]
          },
          "metadata": {},
          "execution_count": 2
        }
      ]
    },
    {
      "cell_type": "markdown",
      "metadata": {
        "id": "Yt2JBvFrxwu2"
      },
      "source": [
        "5)\n",
        "A) Create a numpy array named x of integers using range (1-\n",
        "10) command.\n",
        "B) Next, perform x+5, x-5, x/5, x*5, x^2, x%2, log(x),\n",
        "log2(x), log10(x) operations over X.\n",
        "C) Finally, compute some trigonometric functions (sin, cos,\n",
        "tan) on X."
      ]
    },
    {
      "cell_type": "code",
      "metadata": {
        "colab": {
          "base_uri": "https://localhost:8080/"
        },
        "id": "ZehMDT8qxxsC",
        "outputId": "a9ee8e8d-3e5d-4c28-9c25-194f55029c45"
      },
      "source": [
        "import numpy as np\n",
        "x=np.arange(1,10,dtype=int)\n",
        "print('x+5 :',x+5)\n",
        "x=np.arange(1,10,dtype=int)\n",
        "print('x/5 : ',x/5)\n",
        "x=np.arange(1,10,dtype=int)\n",
        "print('x*5 : ',x*5)\n",
        "x=np.arange(1,10,dtype=int)\n",
        "print('x^5 : ',x^5)\n",
        "x=np.arange(1,10,dtype=int)\n",
        "print('log(x) : ',np.log(x))\n",
        "print('log2(x) : ',np.log2(x))\n",
        "print('log10(x) : ',np.log10(x))\n",
        "print('sin : ',np.sin(x))\n",
        "print('cos : ',np.cos(x))\n",
        "print('tan : ',np.tan(x))"
      ],
      "execution_count": null,
      "outputs": [
        {
          "output_type": "stream",
          "name": "stdout",
          "text": [
            "x+5 : [ 6  7  8  9 10 11 12 13 14]\n",
            "x/5 :  [0.2 0.4 0.6 0.8 1.  1.2 1.4 1.6 1.8]\n",
            "x*5 :  [ 5 10 15 20 25 30 35 40 45]\n",
            "x^5 :  [ 4  7  6  1  0  3  2 13 12]\n",
            "log(x) :  [0.         0.69314718 1.09861229 1.38629436 1.60943791 1.79175947\n",
            " 1.94591015 2.07944154 2.19722458]\n",
            "log2(x) :  [0.         1.         1.5849625  2.         2.32192809 2.5849625\n",
            " 2.80735492 3.         3.169925  ]\n",
            "log10(x) :  [0.         0.30103    0.47712125 0.60205999 0.69897    0.77815125\n",
            " 0.84509804 0.90308999 0.95424251]\n",
            "sin :  [ 0.84147098  0.90929743  0.14112001 -0.7568025  -0.95892427 -0.2794155\n",
            "  0.6569866   0.98935825  0.41211849]\n",
            "cos :  [ 0.54030231 -0.41614684 -0.9899925  -0.65364362  0.28366219  0.96017029\n",
            "  0.75390225 -0.14550003 -0.91113026]\n",
            "tan :  [ 1.55740772 -2.18503986 -0.14254654  1.15782128 -3.38051501 -0.29100619\n",
            "  0.87144798 -6.79971146 -0.45231566]\n"
          ]
        }
      ]
    }
  ]
}